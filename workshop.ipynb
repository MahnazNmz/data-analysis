{
  "cells": [
    {
      "cell_type": "markdown",
      "metadata": {
        "id": "view-in-github",
        "colab_type": "text"
      },
      "source": [
        "<a href=\"https://colab.research.google.com/github/MahnazNmz/data-analysis/blob/master/workshop.ipynb\" target=\"_parent\"><img src=\"https://colab.research.google.com/assets/colab-badge.svg\" alt=\"Open In Colab\"/></a>"
      ]
    },
    {
      "cell_type": "markdown",
      "source": [
        "# Build your own agent with Toqan\n",
        "\n",
        "This notebook provides you with everything you need to know for building your own agent. Through the different sections you will get to know the different aspects of building an agent. In the last section you are challenged to build your own agent with the knowledge you have gained.\n",
        "\n",
        "## Table of contents\n",
        "0. Set-up\n",
        "1. Quick Start\n",
        "2. Upload files to Toqan\n",
        "3. Prompt variables\n",
        "4. Using tools\n",
        "5. HTTP Request Tool\n",
        "6. Create your own agent\n",
        "7. Appendix: Keeping track of conversations & configurations in this notebook\n"
      ],
      "metadata": {
        "id": "C1CP3YwerBpB"
      },
      "id": "C1CP3YwerBpB"
    },
    {
      "cell_type": "markdown",
      "id": "c6f0f86e-2f16-43de-a936-bd9ec55d7e7e",
      "metadata": {
        "id": "c6f0f86e-2f16-43de-a936-bd9ec55d7e7e"
      },
      "source": [
        "## Environment Setup & Boilerplate Code\n",
        "You can run the next 5 cells without needing to undersand the code in them. The classes and functions are used to interact with the Toqan API, and create an easy-to-use layer around the api."
      ]
    },
    {
      "cell_type": "code",
      "source": [
        "#@title # Download example files used in this notebook\n",
        "%%capture\n",
        "!gdown --id 1HDK166C38d8Xa628XR4nmwuTuekJc_i8\n",
        "!gdown --id 1LaHDapvB5gxWtnGyADyVfHJi6raS9-oy"
      ],
      "metadata": {
        "cellView": "form",
        "id": "zzbf9vrEQgm_"
      },
      "id": "zzbf9vrEQgm_",
      "execution_count": null,
      "outputs": []
    },
    {
      "cell_type": "code",
      "outputs": [],
      "source": [
        "#@title # imports & logging\n",
        "import os\n",
        "import uuid\n",
        "\n",
        "import requests\n",
        "import json\n",
        "from pydantic import BaseModel\n",
        "from typing import Optional, List\n",
        "from datetime import datetime\n",
        "import logging\n",
        "import mimetypes\n",
        "from PIL import Image\n",
        "import matplotlib.pyplot as plt\n",
        "\n",
        "# Logging\n",
        "logger = logging.getLogger()\n",
        "logger.setLevel(logging.INFO)"
      ],
      "metadata": {
        "cellView": "form",
        "id": "c07517107386eb88"
      },
      "id": "c07517107386eb88",
      "execution_count": null
    },
    {
      "cell_type": "code",
      "execution_count": null,
      "id": "2740f5045106c9ea",
      "metadata": {
        "cellView": "form",
        "id": "2740f5045106c9ea"
      },
      "outputs": [],
      "source": [
        "#@title # Response models of API\n",
        "class CreateConversationResponse(BaseModel):\n",
        "    conversation_id: Optional[str] = None\n",
        "    message: Optional[str] = None\n",
        "\n",
        "class ContinueConversationResponse(BaseModel):\n",
        "    message: Optional[str] = None\n",
        "\n",
        "class ApiAttachmentFile(BaseModel):\n",
        "    name: str\n",
        "    mime_type: str\n",
        "\n",
        "class ApiConversationItemAttachment(BaseModel):\n",
        "    name: str\n",
        "    mime_type: str\n",
        "    image_width: Optional[int] = None\n",
        "    image_height: Optional[int] = None\n",
        "\n",
        "class ApiConversationItem(BaseModel):\n",
        "    id: str\n",
        "    type: str\n",
        "    timestamp: datetime\n",
        "    message: Optional[str] = None\n",
        "    author_id: Optional[str] = None\n",
        "    attachments: Optional[List[ApiConversationItemAttachment]] = None\n",
        "\n",
        "class ApiUploadFileResponse(BaseModel):\n",
        "    url: Optional[str] = None\n",
        "\n",
        "class ApiDownloadFileResponse(BaseModel):\n",
        "    file_name: Optional[str] = None\n",
        "\n",
        "class Configuration(BaseModel):\n",
        "    system_prompt: str\n",
        "    ocr: bool\n",
        "    url_resolver: bool\n",
        "    web_search: bool\n",
        "    text_to_image: bool\n",
        "    code_executor: bool\n",
        "    long_text_file_handling: bool\n",
        "    transcription: bool\n",
        "    docx_generation: bool\n",
        "    find_commerce: bool\n",
        "    http_request: bool\n",
        "\n",
        "class File(BaseModel):\n",
        "    file_name: str\n",
        "\n",
        "class ToolCall(BaseModel):\n",
        "    name: str\n",
        "    arguments: str\n",
        "    result_content: Optional[str]\n",
        "    result_files: Optional[List[File]]\n",
        "    completed_at: Optional[datetime]\n",
        "    error: Optional[str]\n",
        "    state: str"
      ]
    },
    {
      "cell_type": "code",
      "execution_count": null,
      "id": "initial_id",
      "metadata": {
        "cellView": "form",
        "id": "initial_id"
      },
      "outputs": [],
      "source": [
        "#@title API Wrapper\n",
        "class APIWrapper:\n",
        "  api_url: str = \"https://api.coco.prod.toqan.ai\"\n",
        "  api_key: str\n",
        "  headers: dict = {\n",
        "      \"X-Api-Key\": None,\n",
        "      \"Content-Type\": \"application/json\"\n",
        "  }\n",
        "\n",
        "  class Endpoints:\n",
        "    create_conversation = \"/create_conversation\"\n",
        "    create_configuration = \"/create_configuration\"\n",
        "    get_configuration = \"/get_configuration\"\n",
        "    continue_conversation = \"/continue_conversation\"\n",
        "    find_conversation = \"/find_conversation\"\n",
        "    get_upload_file_url = \"/get_upload_file_url\"\n",
        "    get_download_file_url = \"/get_download_file_url\"\n",
        "    get_tool_invocations = \"/get_tool_invocations\"\n",
        "\n",
        "  def _attach_file_to_conversation(self, conversation_id: str, file_names: List[str]) -> List[dict]:\n",
        "      files = []\n",
        "      for file_name in file_names:\n",
        "        response = self.upload_file(\n",
        "            conversation_id,\n",
        "            file_name)\n",
        "        if response.url:\n",
        "            files.append(ApiAttachmentFile(name=file_name, mime_type=get_mime_type(file_name)).dict())\n",
        "        else:\n",
        "            logging.error(f\"failed to attach file {file_name}\")\n",
        "\n",
        "      return files\n",
        "\n",
        "  def set_api_key(self, email: str):\n",
        "    if not email:\n",
        "      logging.error(\"email cannot be empty\")\n",
        "      return None\n",
        "\n",
        "    url = f\"{self.api_url}/get_api_key\"\n",
        "    data = {\n",
        "      \"email\": email\n",
        "    }\n",
        "\n",
        "    response = requests.post(url, headers=self.headers, data=json.dumps(data))\n",
        "    if response.status_code == 200:\n",
        "      self.api_key = response.json()[\"api_key\"]\n",
        "      self.headers[\"X-Api-Key\"] = self.api_key\n",
        "    else:\n",
        "      logging.error(f\"could not get api key, status: {response.status_code}\")\n",
        "      return None\n",
        "\n",
        "  def create_configuration(\n",
        "      self,\n",
        "      configuration: Configuration,\n",
        "  ) -> Optional[str]:\n",
        "      url = f\"{self.api_url}{self.Endpoints.create_configuration}\"\n",
        "      data = configuration.dict()\n",
        "      response = requests.post(url, headers=self.headers, data=json.dumps(data))\n",
        "\n",
        "      if response.status_code == 200:\n",
        "          return response.json()[\"configuration_id\"]\n",
        "      else:\n",
        "          logging.error(f\"could not create configuration, status: {response.status_code}\")\n",
        "          return None\n",
        "\n",
        "  def get_configuration(self, configuration_id: str) -> Configuration:\n",
        "      url = f\"{self.api_url}{self.Endpoints.get_configuration}\"\n",
        "      data = {\n",
        "          \"configuration_id\": configuration_id\n",
        "      }\n",
        "      response = requests.post(url, headers=self.headers, data=json.dumps(data))\n",
        "\n",
        "      if response.status_code == 200:\n",
        "          return Configuration(**response.json())\n",
        "      else:\n",
        "          logging.error(f\"could not get configuration, status: {response.status_code}\")\n",
        "          return Configuration()\n",
        "\n",
        "  def create_conversation(\n",
        "      self,\n",
        "      conversation_id: str,\n",
        "      message: str,\n",
        "      configuration_id: str = None, # set this if you want to use a configuration you created yourself\n",
        "      file_names: List[str] = None,\n",
        "  ):\n",
        "    url = f\"{self.api_url}{self.Endpoints.create_conversation}\"\n",
        "    data = {\n",
        "      \"conversation_id\": conversation_id,\n",
        "      \"user_message\": message\n",
        "    }\n",
        "\n",
        "    if configuration_id:\n",
        "      data[\"configuration_id\"] = configuration_id\n",
        "\n",
        "    if file_names:\n",
        "        data[\"files\"] = self._attach_file_to_conversation(conversation_id, file_names)\n",
        "\n",
        "    response = requests.post(url, headers=self.headers, data=json.dumps(data))\n",
        "\n",
        "    if response.status_code == 200:\n",
        "      logger.info(\"successfully created conversation\")\n",
        "    else:\n",
        "      logging.error(f\"could not create conversation, status: {response.status_code}, text: {response.text}\")\n",
        "\n",
        "  def continue_conversation(\n",
        "      self,\n",
        "      conversation_id: str,\n",
        "      message: str,\n",
        "      file_names: List[str] = None,\n",
        "  ):\n",
        "    url = f\"{self.api_url}{self.Endpoints.continue_conversation}\"\n",
        "    data = {\n",
        "      \"conversation_id\": conversation_id,\n",
        "      \"user_message\": message\n",
        "    }\n",
        "\n",
        "    if file_names:\n",
        "        data[\"files\"] = self._attach_file_to_conversation(conversation_id, file_names)\n",
        "\n",
        "    response = requests.post(url, headers=self.headers, data=json.dumps(data))\n",
        "\n",
        "    if response.status_code == 204:\n",
        "      logger.info(\"successfully continued conversation\")\n",
        "    else:\n",
        "      logging.error(f\"could not continue conversation, status: {response.status_code}\")\n",
        "\n",
        "  def find_conversation(self, conversation_id: str) -> List[ApiConversationItem]:\n",
        "    url = f\"{self.api_url}{self.Endpoints.find_conversation}\"\n",
        "    data = {\n",
        "      \"conversation_id\": conversation_id\n",
        "    }\n",
        "\n",
        "    response = requests.post(url, headers=self.headers, data=json.dumps(data))\n",
        "\n",
        "    if response.status_code == 200:\n",
        "      return [ApiConversationItem(**item) for item in response.json()]\n",
        "    else:\n",
        "      logging.error(f\"could not find conversation, status: {response.status_code}, text: {response.text}\")\n",
        "      return []\n",
        "\n",
        "  def upload_file(\n",
        "      self,\n",
        "      conversation_id: str,\n",
        "      file_name: str\n",
        "    ) -> ApiUploadFileResponse:\n",
        "      url= f\"{self.api_url}{self.Endpoints.get_upload_file_url}\"\n",
        "      data = {\n",
        "        \"conversation_id\":conversation_id,\n",
        "        \"file_name\":file_name\n",
        "    }\n",
        "      upload_url_response = requests.post(url, headers=self.headers, data=json.dumps(data))\n",
        "\n",
        "      if upload_url_response.status_code != 200:\n",
        "          logging.error(f\"failed to generate upload url for file {file_name}, status: {upload_url_response.status_code}\")\n",
        "          return ApiUploadFileResponse()\n",
        "\n",
        "      upload_url = upload_url_response.json()[\"url\"]\n",
        "      try:\n",
        "        with open(file_name, \"rb\") as object_file:\n",
        "            object_bytes = object_file.read()\n",
        "            put_file_response = requests.put(upload_url, data=object_bytes)\n",
        "            if put_file_response.status_code != 200:\n",
        "                logging.error(f\"failed to put file {file_name}, status: {put_file_response.status_code}\")\n",
        "                return ApiUploadFileResponse()\n",
        "      except FileNotFoundError:\n",
        "          logging.error(f\"cannot find local file {file_name}\")\n",
        "          return ApiUploadFileResponse()\n",
        "\n",
        "      return ApiUploadFileResponse(url=upload_url)\n",
        "\n",
        "  def download_file(\n",
        "      self,\n",
        "      conversation_id: str,\n",
        "      file_name: str,\n",
        "      local_file_name: str = None\n",
        "    ) -> ApiDownloadFileResponse:\n",
        "\n",
        "      url= f\"{self.api_url}{self.Endpoints.get_download_file_url}\"\n",
        "      data = {\n",
        "        \"conversation_id\":conversation_id,\n",
        "        \"file_name\":file_name\n",
        "    }\n",
        "      download_url_response = requests.post(url, headers=self.headers, data=json.dumps(data))\n",
        "\n",
        "      if download_url_response.status_code != 200:\n",
        "          logging.error(f\"failed to get download url for file {file_name}, status: {download_url_response.status_code}\")\n",
        "          return ApiDownloadFileResponse()\n",
        "\n",
        "      download_url = download_url_response.json()[\"url\"]\n",
        "\n",
        "      downloaded_content = requests.get(download_url)\n",
        "\n",
        "      if downloaded_content.status_code != 200:\n",
        "          logging.error(f\"could not download file content for file {file_name}, status: {downloaded_content.status_code}\")\n",
        "          return ApiDownloadFileResponse()\n",
        "      try:\n",
        "          if local_file_name:\n",
        "              file_name = local_file_name\n",
        "          with open(file_name, \"wb\") as f:\n",
        "              f.write(downloaded_content.content)\n",
        "      except Exception:\n",
        "          logging.error(f\"failed to write the file {file_name} to local {local_file_name}\")\n",
        "\n",
        "      return ApiDownloadFileResponse(file_name=file_name)\n",
        "\n",
        "  def get_tool_invocations(self, conversation_id: str) -> List[ToolCall]:\n",
        "    url = f\"{self.api_url}{self.Endpoints.get_tool_invocations}\"\n",
        "    data = {\n",
        "      \"conversation_id\": conversation_id\n",
        "    }\n",
        "\n",
        "    response = requests.post(url, headers=self.headers, data=json.dumps(data))\n",
        "\n",
        "    if response.status_code == 200:\n",
        "      return [ToolCall(**item) for item in response.json()]\n",
        "    else:\n",
        "      logging.error(f\"could not get tool invocations, status: {response.status_code}, text: {response.text}\")\n",
        "      return []\n",
        "\n",
        "# class needed for encoding things\n",
        "class DateTimeEncoder(json.JSONEncoder):\n",
        "    def default(self, obj):\n",
        "        if isinstance(obj, datetime):\n",
        "            return obj.isoformat()\n",
        "        return super().default(obj)\n",
        "\n",
        "def get_mime_type(file_name: str) -> str:\n",
        "    t = mimetypes.guess_type(file_name)[0] or \"application/octet-stream\"\n",
        "    return t"
      ]
    },
    {
      "cell_type": "code",
      "execution_count": null,
      "id": "7130e1cd3228b438",
      "metadata": {
        "id": "7130e1cd3228b438",
        "cellView": "form"
      },
      "outputs": [],
      "source": [
        "#@title Variables and functions used in the notebook\n",
        "# Set up some variables to this notebook to keep track of conversations\n",
        "if \"all_conversations_created\" not in globals():\n",
        "  all_conversations_created = [] # used to keep track of all conversation ids, in case you want to review later\n",
        "\n",
        "if \"latest_conversation_id\" not in globals():\n",
        "  latest_conversation_id = None\n",
        "\n",
        "if \"all_configurations_created\" not in globals():\n",
        "  all_configurations_created = []\n",
        "\n",
        "if \"latest_configuration_id\" not in globals():\n",
        "  latest_configuration_id = None\n",
        "\n",
        "def create_conversation_id():\n",
        "  global latest_conversation_id\n",
        "  global all_conversations_created\n",
        "\n",
        "  latest_conversation_id = str(uuid.uuid4())\n",
        "  all_conversations_created.append(latest_conversation_id)\n",
        "\n",
        "def create_configuration(configuration: Configuration):\n",
        "  global latest_configuration_id\n",
        "  global all_configurations_created\n",
        "\n",
        "  configuration_id = api.create_configuration(configuration=configuration)\n",
        "\n",
        "  if configuration_id:\n",
        "    all_configurations_created.append(configuration_id)\n",
        "    latest_configuration_id = configuration_id\n",
        "\n",
        "def preview_image(image_path):\n",
        "      try:\n",
        "          image = Image.open(image_path)\n",
        "          plt.figure()\n",
        "          plt.imshow(image)\n",
        "          plt.axis('off')\n",
        "          plt.show()  # Display the image using matplotlib\n",
        "      except Exception as e:\n",
        "          logger.info(f\"File {image_path} cannot be previewed, view it in your file system attached to this notebook.\")\n",
        "\n",
        "def preview_text_files(text_file_paths):\n",
        "    for file_path in text_file_paths:\n",
        "        try:\n",
        "            with open(file_path, 'r') as file:\n",
        "                lines = file.readlines()[:5]\n",
        "                preview = ''.join(lines)[:100]\n",
        "                print(f'Preview of {file_path}:\\n{preview}\\n--------------\\n')\n",
        "        except Exception as e:\n",
        "            logger.info(f\"File {file_path} cannot be previewed, view it in your file system attached to this notebook.\")\n",
        "\n",
        "def preview_other_files(file_paths):\n",
        "    for file_path in file_paths:\n",
        "        logger.info(f\"File {file_path} cannot be previewed, view it in your file system attached to this notebook.\")\n",
        "\n",
        "def preview_files(file_paths):\n",
        "    image_extensions = ('.jpg', '.jpeg', '.png', '.gif', '.bmp', '.tiff')\n",
        "    text_extensions = ('.txt', '.md', '.py', '.csv')\n",
        "\n",
        "    image_paths = []\n",
        "    text_paths = []\n",
        "    other_paths = []\n",
        "\n",
        "    for file_path in file_paths:\n",
        "        mime_type, _ = mimetypes.guess_type(file_path)\n",
        "        if mime_type:\n",
        "            if mime_type.startswith('image'):\n",
        "                image_paths.append(file_path)\n",
        "            elif mime_type.startswith('text') or file_path.endswith(text_extensions):\n",
        "                text_paths.append(file_path)\n",
        "            else:\n",
        "                other_paths.append(file_path)\n",
        "        else:\n",
        "            if file_path.endswith(image_extensions):\n",
        "                image_paths.append(file_path)\n",
        "            elif file_path.endswith(text_extensions):\n",
        "                text_paths.append(file_path)\n",
        "            else:\n",
        "                other_paths.append(file_path)\n",
        "\n",
        "    if image_paths:\n",
        "        preview_image(image_paths[0])\n",
        "        if len(image_paths) > 1:\n",
        "            logger.info(f\"Only dipslaying first image files, view others in file system attached to this notebook: {image_paths[1:]}\")\n",
        "    if text_paths:\n",
        "        preview_text_files(text_paths)\n",
        "    if other_paths:\n",
        "        preview_other_files(other_paths)\n",
        "\n",
        "\n",
        "def download_files_from_response(conversation_item: ApiConversationItem) -> List[str]:\n",
        "  global latest_conversation_id\n",
        "\n",
        "  local_folder = \"downloaded_files\"\n",
        "  if not os.path.exists(local_folder):\n",
        "      os.makedirs(local_folder)\n",
        "\n",
        "  if conversation_item.author_id != \"Toqan\":\n",
        "    # logger.info(\"Last message was not from Toqan, no files to download\")\n",
        "    return []\n",
        "\n",
        "  all_local_file_paths = []\n",
        "  if conversation_item.attachments:\n",
        "    logger.info(\"Downloading attachments\")\n",
        "    for f in conversation_item.attachments:\n",
        "        toqan_file_name = f.name\n",
        "        local_file_path = os.path.join(local_folder, toqan_file_name)\n",
        "        if not os.path.exists(local_file_path):\n",
        "            api.download_file(latest_conversation_id, toqan_file_name, local_file_path)\n",
        "        else:\n",
        "            logger.info(f\"File already exists: {toqan_file_name}, not downloading again\")\n",
        "\n",
        "        api.download_file(latest_conversation_id, toqan_file_name, local_file_path)\n",
        "        all_local_file_paths.append(local_file_path)\n",
        "  else:\n",
        "    logger.info(\"No attachments found in the last message\")\n",
        "\n",
        "  return all_local_file_paths"
      ]
    },
    {
      "cell_type": "markdown",
      "source": [
        "## 0. Set-up\n",
        "\n",
        "Fill in your email in the email variable in the next cell, and run the cell to set up your connection with the Toqan API"
      ],
      "metadata": {
        "id": "cb5d0e45-2d1c-407e-a7fb-7988d3a33c40"
      },
      "id": "cb5d0e45-2d1c-407e-a7fb-7988d3a33c40"
    },
    {
      "cell_type": "code",
      "outputs": [],
      "source": [
        "email = \"\" # your email here\n",
        "api = APIWrapper()\n",
        "api.set_api_key(email)"
      ],
      "metadata": {
        "id": "c69cfce1b7c0a371"
      },
      "id": "c69cfce1b7c0a371",
      "execution_count": null
    },
    {
      "cell_type": "markdown",
      "source": [
        "## 1. Quick Start\n",
        "\n",
        "The following cells will show you how to create an agent by creating a configuration for Toqan, start a conversation, and see the answer. In the detailed section more sophisticated use of this notebook is explained.\n",
        "\n",
        "An explanation on why `{tool_guidelines}` is added to the system prompt is in section 3 of this notebook."
      ],
      "metadata": {
        "collapsed": false,
        "id": "a9be07c1e2acc47d"
      },
      "id": "a9be07c1e2acc47d"
    },
    {
      "cell_type": "code",
      "outputs": [],
      "source": [
        "# Create a new configuration\n",
        "create_configuration(Configuration(\n",
        "    system_prompt=\"You are a clown, always announce you are a clown and then respond in a clown way. However, do not use emojis. {tool_guidelines}\",\n",
        "    ocr=False,\n",
        "    url_resolver=False,\n",
        "    web_search=False,\n",
        "    text_to_image=False,\n",
        "    code_executor=False,\n",
        "    long_text_file_handling=True, # note that this tool allows Toqan to process text files you upload\n",
        "    transcription=False,\n",
        "    docx_generation=False,\n",
        "    find_commerce=False,\n",
        "    http_request=False,\n",
        "))\n",
        "print(f\"configuration_id: {latest_configuration_id}\")"
      ],
      "metadata": {
        "id": "ed2f40bcd0ea77a1"
      },
      "id": "ed2f40bcd0ea77a1",
      "execution_count": null
    },
    {
      "cell_type": "code",
      "outputs": [],
      "source": [
        "# Create a new conversation_id, this is a prerequisite for creating a new conversation\n",
        "create_conversation_id()\n",
        "print(f\"latest_conversation_id: {latest_conversation_id}\\n\")\n",
        "\n",
        "# Create a new conversation with Toqan\n",
        "response = api.create_conversation(\n",
        "  conversation_id=latest_conversation_id, # auto-set to the last created\n",
        "  message=\"how are you now?\",\n",
        "  configuration_id=latest_configuration_id, # auto-set to the last created\n",
        ")"
      ],
      "metadata": {
        "id": "474d4f142b2fcdd8"
      },
      "id": "474d4f142b2fcdd8",
      "execution_count": null
    },
    {
      "cell_type": "code",
      "execution_count": null,
      "id": "4fdcf98bca90fec8",
      "metadata": {
        "id": "4fdcf98bca90fec8"
      },
      "outputs": [],
      "source": [
        "# Check the conversation, if an answer is ready, it will appear here\n",
        "conversation_messages = api.find_conversation(latest_conversation_id)\n",
        "print(json.dumps([item.dict() for item in conversation_messages], cls=DateTimeEncoder, indent=2))\n",
        "\n",
        "# any attachments in the last message will be downloaded to local folder \"downloaded_files\"\n",
        "last_message = conversation_messages[-1]\n",
        "local_file_paths = download_files_from_response(last_message)\n",
        "\n",
        "# NOTE THAT responses from Toqan might not be immediately available. Re-run this cell in a few seconds in that case."
      ]
    },
    {
      "cell_type": "markdown",
      "source": [
        "## 2. Upload files to Toqan\n",
        "Toqan is able to use files. Most file types are supported in some way, because of the tools that are available. If you have enabled the file_text_handling tool, Toqan can i.e. use a tool to handle long text files. The code executor tool is able to load files and execute code on them.\n",
        "\n",
        "Toqan is also able to \"see\" images, so if you upload an image, Toqan knows about the contents automatically and you can ask it questions about it.\n",
        "\n",
        "In order to upload files to toqan, you need to put the file you want to upload into this folder (if you are on Google Colab, you can click the folder icon on the left, then click the upload icon and select the file you want to use). Then you can use the following code to attach the file with your next message to Toqan.\n",
        "\n",
        "### File Restrictions\n",
        "Note that most files need to be processed by tools, and are not supported by a configuration that has disabled the tools (e.g. `long_text_file_handling=False`). Most image files can however be \"seen\" by the agent without using tools.\n",
        "\n",
        "Text files can for example be processed by the\n",
        " long_text_file_handler tool (that is why the example below works). Video and sound files can be procees by the transcription tool (converting the spoken language to voice).\n",
        "\n",
        " You can upload other files, and you might be able to \"use\" those files with the code executor tool."
      ],
      "metadata": {
        "collapsed": false,
        "id": "34593d45e5f8c1d2"
      },
      "id": "34593d45e5f8c1d2"
    },
    {
      "cell_type": "code",
      "outputs": [],
      "source": [
        "# Use a file in your next message to Toqan.\n",
        "# Note that here we use the continue endpoint to add a message to the same conversation.\n",
        "response = api.continue_conversation(\n",
        "  conversation_id=latest_conversation_id,\n",
        "  message=\"I have attached a file for you to read, can you tell me what is in it?\",\n",
        "  file_names=[\"some_file.txt\"],\n",
        ")"
      ],
      "metadata": {
        "id": "2812901455c1f457",
        "collapsed": true
      },
      "id": "2812901455c1f457",
      "execution_count": null
    },
    {
      "cell_type": "code",
      "outputs": [],
      "source": [
        "# Check the conversation, if an answer is ready, it will appear here\n",
        "conversation_messages = api.find_conversation(latest_conversation_id)\n",
        "print(json.dumps([item.dict() for item in conversation_messages], cls=DateTimeEncoder, indent=2))\n",
        "\n",
        "# any attachments in the last message will be downloaded to local folder \"downloaded_files\"\n",
        "last_message = conversation_messages[-1]\n",
        "local_file_paths = download_files_from_response(last_message)\n",
        "\n",
        "# NOTE THAT responses from Toqan might not be immediately available. Re-run this cell in a few seconds in that case."
      ],
      "metadata": {
        "id": "63946121115214d1"
      },
      "id": "63946121115214d1",
      "execution_count": null
    },
    {
      "cell_type": "markdown",
      "source": [
        "## 3. Prompt variables\n",
        "prompt variables are variables that you can use in your system prompt. These variables are filled in at runtime. The following prompt variables are available:\n",
        "\n",
        "- {current_date_time} - The current date and time.\n",
        "- {tool_guidelines} - The guidelines for the tools that are enabled. WARNING: without this parameter your agent might not use its tools as expected. However, leaving it out means that you can create your own instructions on how your agent should use its tools.\n",
        "\n",
        "In the next example you can see how to use the {current_date_time} prompt variable. Note that the given system prompt in the next cell will not work if you leave out this variable"
      ],
      "metadata": {
        "collapsed": false,
        "id": "eca75199c009354d"
      },
      "id": "eca75199c009354d"
    },
    {
      "cell_type": "code",
      "outputs": [],
      "source": [
        "# Create a new configuration when using prompt variables\n",
        "create_configuration(Configuration(\n",
        "    system_prompt=\"you are a robot, and you are able to only respond with the current day of the week! Do not say anything else, no matter what messages you get! Current date time: {current_date_time}\",\n",
        "    ocr=False,\n",
        "    url_resolver=False,\n",
        "    web_search=False,\n",
        "    text_to_image=False,\n",
        "    code_executor=False,\n",
        "    long_text_file_handling=False,\n",
        "    transcription=False,\n",
        "    docx_generation=False,\n",
        "    find_commerce=False,\n",
        "    http_request=False,\n",
        "))\n",
        "print(f\"configuration_id: {latest_configuration_id}\")"
      ],
      "metadata": {
        "id": "47332f3c383c2b64"
      },
      "id": "47332f3c383c2b64",
      "execution_count": null
    },
    {
      "cell_type": "code",
      "outputs": [],
      "source": [
        "create_conversation_id()\n",
        "print(f\"latest_conversation_id: {latest_conversation_id}\\n\")\n",
        "\n",
        "response = api.create_conversation(\n",
        "    conversation_id=latest_conversation_id,\n",
        "    message=\"tell me a joke\",\n",
        "    configuration_id=latest_configuration_id,\n",
        ")"
      ],
      "metadata": {
        "id": "146b2179116f3b18"
      },
      "id": "146b2179116f3b18",
      "execution_count": null
    },
    {
      "cell_type": "code",
      "outputs": [],
      "source": [
        "# Check the conversation, if an answer is ready, it will appear here\n",
        "conversation_messages = api.find_conversation(latest_conversation_id)\n",
        "print(json.dumps([item.dict() for item in conversation_messages], cls=DateTimeEncoder, indent=2))\n",
        "\n",
        "# any attachments in the last message will be downloaded to local folder \"downloaded_files\"\n",
        "last_message = conversation_messages[-1]\n",
        "local_file_paths = download_files_from_response(last_message)\n",
        "\n",
        "# NOTE THAT responses from Toqan might not be immediately available. Re-run this cell in a few seconds in that case."
      ],
      "metadata": {
        "id": "46dea9b9a28c0b94"
      },
      "id": "46dea9b9a28c0b94",
      "execution_count": null
    },
    {
      "cell_type": "markdown",
      "source": [
        "## 4. Using tools\n",
        "\n",
        "Toqan has access to a variety of tools that can be enabled in the configuration. The following tools are available:\n",
        "- **ocr**: Optical Character Recognition, to read text from images.\n",
        "- **url_resolver**: resolve URLs to their content.\n",
        "- **web_search**: search the web for information, previews of websites are found, and urls can potentially be resolved by url_resolver.\n",
        "- **text_to_image**: create an image from a text prompt.\n",
        "- **code_executor**: execute python code. This tool can also use uploaded files in the code.\n",
        "- **long_text_file_handling**: handle long text files by summarizing, translating, or extracting question and answer pairs.\n",
        "- **transcription**: transcribe audio files.\n",
        "- **docx_generation**: generate a docx file from text.\n",
        "- **find_commerce**: find commerce related what you are looking for. You can be specific and i.e. ask for a store in Amsterdam that sells shoes, and opens before 10am on a Saturday.\n",
        "- **http_request**: make http requests to any specified endpoint. NOTE that this is a special tool for which you need to do the configuration in the system prompt. More info at the http request tool section of this notebook.\n",
        "\n",
        "If you are enabling tools in your configuration, use the prompt variable **{tool_guidelines}** in your system prompt. This will insert the detailed guidelines for the tools that are enabled. If you do not use this prompt variable, your agent might not use its tools as expected. However, leaving it out means that you can create your own instructions in the system prompt on how your agent should use its tools.\n",
        "\n",
        "### See tool call invocations in a conversation\n",
        "If you want to see what your agent is doing under the hood, you can inspect which tool invocations it made. This can be done with the get_tool_invocations function of the api wrapper. See the fourth cell in this section for an example.\n",
        "\n",
        "### Image variation tool\n",
        "In the next example, we will create an image variation tool. We use the standard capability of Toqan to \"view\" images we submit, plus the tool to generate images from a prompt.\n"
      ],
      "metadata": {
        "collapsed": false,
        "id": "71653b04ac377188"
      },
      "id": "71653b04ac377188"
    },
    {
      "cell_type": "code",
      "outputs": [],
      "source": [
        "configuration = create_configuration(Configuration(\n",
        "    system_prompt=\"You are an image conversion agent. When someone shows you an image, create a new image with the text to image tool that has the same subject, but a blue color scheme. Return that image to the user. You should not respond to any other requests from users. If no image is uploaded, ask the user to upload an image and explain that your only capability is image variation. {tool_guidelines}\",\n",
        "    ocr=False,\n",
        "    url_resolver=False,\n",
        "    web_search=False,\n",
        "    text_to_image=True, # enable text to image tool\n",
        "    code_executor=False,\n",
        "    long_text_file_handling=False,\n",
        "    transcription=False,\n",
        "    docx_generation=False,\n",
        "    find_commerce=False,\n",
        "    http_request=False,\n",
        "))"
      ],
      "metadata": {
        "id": "b51048903209ad86"
      },
      "id": "b51048903209ad86",
      "execution_count": null
    },
    {
      "cell_type": "code",
      "outputs": [],
      "source": [
        "create_conversation_id()\n",
        "print(f\"latest_conversation_id: {latest_conversation_id}\\n\")\n",
        "response = api.create_conversation(\n",
        "    conversation_id=latest_conversation_id,\n",
        "    message=\"I have attached an image for you to convert\",\n",
        "    configuration_id=latest_configuration_id,\n",
        "    file_names=[\"cat.png\"]\n",
        ")"
      ],
      "metadata": {
        "id": "d8dc77c992bda9f9"
      },
      "id": "d8dc77c992bda9f9",
      "execution_count": null
    },
    {
      "cell_type": "code",
      "outputs": [],
      "source": [
        "# Check the conversation, if an answer is ready, it will appear here\n",
        "conversation_messages = api.find_conversation(latest_conversation_id)\n",
        "print(json.dumps([item.dict() for item in conversation_messages], cls=DateTimeEncoder, indent=2))\n",
        "\n",
        "# any attachments in the last message will be downloaded to local folder \"downloaded_files\"\n",
        "last_message = conversation_messages[-1]\n",
        "local_file_paths = download_files_from_response(last_message)\n",
        "\n",
        "# NOTE THAT responses from Toqan might not be immediately available. Re-run this cell in a few seconds in that case."
      ],
      "metadata": {
        "id": "2960520fdcf5897f"
      },
      "id": "2960520fdcf5897f",
      "execution_count": null
    },
    {
      "cell_type": "code",
      "source": [
        "preview_files(local_file_paths)"
      ],
      "metadata": {
        "id": "r5yE_o2yunMw"
      },
      "id": "r5yE_o2yunMw",
      "execution_count": null,
      "outputs": []
    },
    {
      "cell_type": "code",
      "source": [
        "# Check which tool calls are made in this conversation by the agent\n",
        "tools = api.get_tool_invocations(latest_conversation_id)\n",
        "print(json.dumps([tool.dict() for tool in tools], cls=DateTimeEncoder, indent=2))"
      ],
      "metadata": {
        "id": "X9zc67cSL0KE"
      },
      "id": "X9zc67cSL0KE",
      "execution_count": null,
      "outputs": []
    },
    {
      "cell_type": "markdown",
      "source": [
        "## 5. HTTP Request Tool\n",
        "\n",
        "The HTTP Request tool allows you to make HTTP requests to any specified endpoint. This is a special tool that requires configuration in the system prompt. The system prompt should describe the following information:\n",
        "  - **url**: The URL to which the request can be made.\n",
        "  - **method**: The HTTP method to use for the request (e.g., GET, POST, PUT, DELETE).\n",
        "  - **authorization**: The authorization header to use for the request (e.g., Bearer token: abcdefg12395).\n",
        "  - **content_type**: The content type of the request (e.g., application/json).\n",
        "  - **body**: The body of the request.\n",
        "  \n",
        "The latter three parameters are optional. This specific HTTP Request tool does not need to have the **{tool_guidelines}** prompt variable in the system prompt, since we are creating the guidelines on how to use this tool ourselves!\n",
        "\n",
        "Let's consider a case where we want to query the latest information about star wars characters by using an api. We use the Api instead of the general LLM knowledge because more details are available in the API. We can use the swapi.dev api to get information about star wars characters. The system prompt can be formatted as follows:\n",
        "```\n",
        "Whenever the user asks something about Star Wars, lookup the characters using the http_request tool calling swapi.\n",
        "Use the response to answer the question.\n",
        "\n",
        "Method: GET\n",
        "URL: https://swapi.dev/api/people\n",
        "Authorization: Bearer token: abcdefg12395\n",
        "Content-Type: application/json\n",
        "Body: {}\n",
        "```\n",
        "\n",
        "The example above uses a url that actually does not need to specify authorization, content-Type and body.\n",
        "Look at the following example on how to actually use it.\n"
      ],
      "metadata": {
        "collapsed": false,
        "id": "1b19e808055a1950"
      },
      "id": "1b19e808055a1950"
    },
    {
      "cell_type": "code",
      "execution_count": null,
      "id": "84b5cd2b-0997-4977-8e7d-b6a6ab93944c",
      "metadata": {
        "id": "84b5cd2b-0997-4977-8e7d-b6a6ab93944c"
      },
      "outputs": [],
      "source": [
        "create_configuration(Configuration(\n",
        "    system_prompt=\"Whenever the user asks something about Star Wars, lookup the characters using the http_request tool calling swapi. Use the response to answer the question. Method: GET URL: https://swapi.dev/api/people\",\n",
        "    ocr=False,\n",
        "    url_resolver=False,\n",
        "    web_search=False,\n",
        "    text_to_image=False,\n",
        "    code_executor=False,\n",
        "    long_text_file_handling=False,\n",
        "    transcription=False,\n",
        "    docx_generation=False,\n",
        "    find_commerce=False,\n",
        "    http_request=True,\n",
        "\n",
        "))"
      ]
    },
    {
      "cell_type": "code",
      "outputs": [],
      "source": [
        "create_conversation_id()\n",
        "print(f\"latest_conversation_id: {latest_conversation_id}\\n\")\n",
        "response = api.create_conversation(\n",
        "    conversation_id=latest_conversation_id,\n",
        "    message=\"Tell me about Luke Skywalker\",\n",
        "    configuration_id=latest_configuration_id,\n",
        ")"
      ],
      "metadata": {
        "id": "3263c04a2249ceb8"
      },
      "id": "3263c04a2249ceb8",
      "execution_count": null
    },
    {
      "cell_type": "code",
      "outputs": [],
      "source": [
        "# Check the conversation, if an answer is ready, it will appear here\n",
        "conversation_messages = api.find_conversation(latest_conversation_id)\n",
        "print(json.dumps([item.dict() for item in conversation_messages], cls=DateTimeEncoder, indent=2))\n",
        "\n",
        "# NOTE THAT responses from Toqan might not be immediately available. Re-run this cell in a few seconds in that case."
      ],
      "metadata": {
        "id": "a97f2ad8614c3f27"
      },
      "id": "a97f2ad8614c3f27",
      "execution_count": null
    },
    {
      "cell_type": "code",
      "source": [
        "# Check which tool calls are made in this conversation by the agent\n",
        "tools = api.get_tool_invocations(latest_conversation_id)\n",
        "print(json.dumps([tool.dict() for tool in tools], cls=DateTimeEncoder, indent=2))"
      ],
      "metadata": {
        "id": "6odeKWW2L1IP"
      },
      "id": "6odeKWW2L1IP",
      "execution_count": null,
      "outputs": []
    },
    {
      "cell_type": "markdown",
      "source": [
        "## 6. Create your own agent\n",
        "Now that you know of the possibilities of the notebook, its time to start working on your own ideas. Use the system prompt, existing tools and custom tools via the http request tool to create your own agent.\n",
        "\n",
        "### Quick overview of the steps\n",
        "1. Create a configuration with `create_configuration`: set system prompt and enable tools. Don't forget prompt variables and be sure to specify your custom apis if you are using the http request tool.\n",
        "2. Create a conversation with `create_conversation`: create a conversation id and start a conversation with Toqan. Be sure to include file paths in the files parameter if you want to upload files.\n",
        "3. Continue the conversation with `continue_conversation`: continue the conversation with Toqan. Again don't forget your files\n",
        "4. Check the conversation with `find_conversation`: check the conversation to see the messages and download any attachments."
      ],
      "metadata": {
        "id": "dh3ssKoirkhW"
      },
      "id": "dh3ssKoirkhW"
    },
    {
      "cell_type": "code",
      "source": [
        "# 1. Create the configuration\n",
        "create_configuration(Configuration(\n",
        "    system_prompt=\"...\",\n",
        "    ocr=...,\n",
        "    url_resolver=...,\n",
        "    web_search=...,\n",
        "    text_to_image=...,\n",
        "    code_executor=...,\n",
        "    long_text_file_handling=...,\n",
        "    transcription=...,\n",
        "    docx_generation=...,\n",
        "    find_commerce=...,\n",
        "    http_request=...,\n",
        "))"
      ],
      "metadata": {
        "id": "N8sUXRaurmqx"
      },
      "id": "N8sUXRaurmqx",
      "execution_count": null,
      "outputs": []
    },
    {
      "cell_type": "code",
      "source": [
        "# 2. Create the conversation\n",
        "create_conversation_id()\n",
        "print(f\"latest_conversation_id: {latest_conversation_id}\\n\")\n",
        "response = api.create_conversation(\n",
        "    conversation_id=latest_conversation_id,\n",
        "    message=...,\n",
        "    configuration_id=latest_configuration_id,\n",
        "    file_names=[...]\n",
        ")"
      ],
      "metadata": {
        "id": "9-2gfDT_rpEI"
      },
      "id": "9-2gfDT_rpEI",
      "execution_count": null,
      "outputs": []
    },
    {
      "cell_type": "code",
      "source": [
        "# 3. Continue the conversation\n",
        "response = api.continue_conversation(\n",
        "  conversation_id=latest_conversation_id,\n",
        "  message=...,\n",
        "  file_names=[...]\n",
        ")"
      ],
      "metadata": {
        "id": "eaDP0aXGrrBa"
      },
      "id": "eaDP0aXGrrBa",
      "execution_count": null,
      "outputs": []
    },
    {
      "cell_type": "code",
      "source": [
        "# 4. Check the conversation, if an answer is ready, it will appear here\n",
        "conversation_messages = api.find_conversation(latest_conversation_id)\n",
        "print(json.dumps([item.dict() for item in conversation_messages], cls=DateTimeEncoder, indent=2))"
      ],
      "metadata": {
        "id": "Ogp9EIgRrrfV"
      },
      "id": "Ogp9EIgRrrfV",
      "execution_count": null,
      "outputs": []
    },
    {
      "cell_type": "code",
      "source": [
        "# Check which tool calls are made in this conversation by the agent\n",
        "tools = api.get_tool_invocations(latest_conversation_id)\n",
        "print(json.dumps([tool.dict() for tool in tools], cls=DateTimeEncoder, indent=2))"
      ],
      "metadata": {
        "id": "6I3250N6L3Ay"
      },
      "id": "6I3250N6L3Ay",
      "execution_count": null,
      "outputs": []
    },
    {
      "cell_type": "markdown",
      "source": [
        "## Appendix: Keeping track of conversations & configurations\n",
        "This notebook automatically keeps track of all conversations and configurations created. Uncomment the lines to check all conversation or configuration ids that you have created. With the find_conversation and get_configuration functions of the api wrapper you can retrieve the data."
      ],
      "metadata": {
        "collapsed": false,
        "id": "3a74de3d498247a4"
      },
      "id": "3a74de3d498247a4"
    },
    {
      "cell_type": "code",
      "outputs": [],
      "source": [
        "# Show all ids of conversations created\n",
        "print(f\"all_conversations_created: {all_conversations_created}\")\n",
        "\n",
        "# Check an earlier created conversation (fill in the conversation_id)\n",
        "conversation = api.find_conversation(\"YOUR_CONVERSATION_ID_HERE\")\n",
        "print(conversation)"
      ],
      "metadata": {
        "id": "14d8cc89d58fd29e"
      },
      "id": "14d8cc89d58fd29e",
      "execution_count": null
    },
    {
      "cell_type": "code",
      "outputs": [],
      "source": [
        "# Show all ids of configurations created\n",
        "print(f\"all_configurations_created: {all_configurations_created}\")\n",
        "\n",
        "# Check an earlier created configuration (fill in the configuration_id)\n",
        "configuration = api.get_configuration(latest_configuration_id)\n",
        "print(configuration)"
      ],
      "metadata": {
        "id": "3faa088e2b21e6bc"
      },
      "id": "3faa088e2b21e6bc",
      "execution_count": null
    },
    {
      "cell_type": "code",
      "outputs": [],
      "source": [
        "# Continue a conversation with Toqan\n",
        "response = api.continue_conversation(\n",
        "  conversation_id=latest_conversation_id,\n",
        "  message=\"Tell me a joke?\"\n",
        ")"
      ],
      "metadata": {
        "id": "d94fbecd6a16691"
      },
      "id": "d94fbecd6a16691",
      "execution_count": null
    },
    {
      "cell_type": "code",
      "source": [],
      "metadata": {
        "id": "mPGHSF0I5F8W"
      },
      "id": "mPGHSF0I5F8W",
      "execution_count": null,
      "outputs": []
    }
  ],
  "metadata": {
    "kernelspec": {
      "display_name": "Python 3 (ipykernel)",
      "language": "python",
      "name": "python3"
    },
    "language_info": {
      "codemirror_mode": {
        "name": "ipython",
        "version": 3
      },
      "file_extension": ".py",
      "mimetype": "text/x-python",
      "name": "python",
      "nbconvert_exporter": "python",
      "pygments_lexer": "ipython3",
      "version": "3.12.4"
    },
    "colab": {
      "provenance": [],
      "include_colab_link": true
    }
  },
  "nbformat": 4,
  "nbformat_minor": 5
}